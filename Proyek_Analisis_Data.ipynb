{
  "cells": [
    {
      "cell_type": "markdown",
      "metadata": {
        "id": "H9wADwK78DCz"
      },
      "source": [
        "# Proyek Analisis Data: Customer_dataset.csv\n",
        "- **Nama:** Radithya Fawwaz Aydin\n",
        "- **Email:** radith.fa@gmail.com\n",
        "- **ID Dicoding:** Radithya Fawwaz Aydin"
      ]
    },
    {
      "cell_type": "markdown",
      "metadata": {
        "id": "eE0raob58DC0"
      },
      "source": [
        "## Menentukan Pertanyaan Bisnis"
      ]
    },
    {
      "cell_type": "markdown",
      "metadata": {
        "id": "GmQeQ5YF8DC0"
      },
      "source": [
        "- Berapa banyak pelanggan unik yang kembali melakukan pembelian?\n",
        "- Bagaimana distribusi pelanggan berdasarkan kota?"
      ]
    },
    {
      "cell_type": "markdown",
      "metadata": {
        "id": "H-z4QGlO8DC1"
      },
      "source": [
        "## Import Semua Packages/Library yang Digunakan"
      ]
    },
    {
      "cell_type": "code",
      "execution_count": 1,
      "metadata": {
        "id": "FVYwaObI8DC1"
      },
      "outputs": [],
      "source": [
        "import pandas as pd\n",
        "import numpy as np\n",
        "import matplotlib.pyplot as plt\n",
        "import seaborn as sns"
      ]
    },
    {
      "cell_type": "markdown",
      "metadata": {
        "id": "h_Sh51Xy8DC1"
      },
      "source": [
        "## Data Wrangling"
      ]
    },
    {
      "cell_type": "markdown",
      "metadata": {
        "id": "sXU2GBYu8DC1"
      },
      "source": [
        "### Gathering Data"
      ]
    },
    {
      "cell_type": "markdown",
      "metadata": {},
      "source": [
        "Sesuai dengan pertanyaan yang saya ajukan, kali ini akan menggunakan \"customer_dataset.csv\" untuk kita gali lebih lanjut."
      ]
    },
    {
      "cell_type": "code",
      "execution_count": 2,
      "metadata": {
        "id": "zjCBk1BI8DC1"
      },
      "outputs": [
        {
          "data": {
            "text/html": [
              "<div>\n",
              "<style scoped>\n",
              "    .dataframe tbody tr th:only-of-type {\n",
              "        vertical-align: middle;\n",
              "    }\n",
              "\n",
              "    .dataframe tbody tr th {\n",
              "        vertical-align: top;\n",
              "    }\n",
              "\n",
              "    .dataframe thead th {\n",
              "        text-align: right;\n",
              "    }\n",
              "</style>\n",
              "<table border=\"1\" class=\"dataframe\">\n",
              "  <thead>\n",
              "    <tr style=\"text-align: right;\">\n",
              "      <th></th>\n",
              "      <th>customer_id</th>\n",
              "      <th>customer_unique_id</th>\n",
              "      <th>customer_zip_code_prefix</th>\n",
              "      <th>customer_city</th>\n",
              "      <th>customer_state</th>\n",
              "    </tr>\n",
              "  </thead>\n",
              "  <tbody>\n",
              "    <tr>\n",
              "      <th>0</th>\n",
              "      <td>06b8999e2fba1a1fbc88172c00ba8bc7</td>\n",
              "      <td>861eff4711a542e4b93843c6dd7febb0</td>\n",
              "      <td>14409</td>\n",
              "      <td>franca</td>\n",
              "      <td>SP</td>\n",
              "    </tr>\n",
              "    <tr>\n",
              "      <th>1</th>\n",
              "      <td>18955e83d337fd6b2def6b18a428ac77</td>\n",
              "      <td>290c77bc529b7ac935b93aa66c333dc3</td>\n",
              "      <td>9790</td>\n",
              "      <td>sao bernardo do campo</td>\n",
              "      <td>SP</td>\n",
              "    </tr>\n",
              "    <tr>\n",
              "      <th>2</th>\n",
              "      <td>4e7b3e00288586ebd08712fdd0374a03</td>\n",
              "      <td>060e732b5b29e8181a18229c7b0b2b5e</td>\n",
              "      <td>1151</td>\n",
              "      <td>sao paulo</td>\n",
              "      <td>SP</td>\n",
              "    </tr>\n",
              "    <tr>\n",
              "      <th>3</th>\n",
              "      <td>b2b6027bc5c5109e529d4dc6358b12c3</td>\n",
              "      <td>259dac757896d24d7702b9acbbff3f3c</td>\n",
              "      <td>8775</td>\n",
              "      <td>mogi das cruzes</td>\n",
              "      <td>SP</td>\n",
              "    </tr>\n",
              "    <tr>\n",
              "      <th>4</th>\n",
              "      <td>4f2d8ab171c80ec8364f7c12e35b23ad</td>\n",
              "      <td>345ecd01c38d18a9036ed96c73b8d066</td>\n",
              "      <td>13056</td>\n",
              "      <td>campinas</td>\n",
              "      <td>SP</td>\n",
              "    </tr>\n",
              "  </tbody>\n",
              "</table>\n",
              "</div>"
            ],
            "text/plain": [
              "                        customer_id                customer_unique_id  \\\n",
              "0  06b8999e2fba1a1fbc88172c00ba8bc7  861eff4711a542e4b93843c6dd7febb0   \n",
              "1  18955e83d337fd6b2def6b18a428ac77  290c77bc529b7ac935b93aa66c333dc3   \n",
              "2  4e7b3e00288586ebd08712fdd0374a03  060e732b5b29e8181a18229c7b0b2b5e   \n",
              "3  b2b6027bc5c5109e529d4dc6358b12c3  259dac757896d24d7702b9acbbff3f3c   \n",
              "4  4f2d8ab171c80ec8364f7c12e35b23ad  345ecd01c38d18a9036ed96c73b8d066   \n",
              "\n",
              "   customer_zip_code_prefix          customer_city customer_state  \n",
              "0                     14409                 franca             SP  \n",
              "1                      9790  sao bernardo do campo             SP  \n",
              "2                      1151              sao paulo             SP  \n",
              "3                      8775        mogi das cruzes             SP  \n",
              "4                     13056               campinas             SP  "
            ]
          },
          "execution_count": 2,
          "metadata": {},
          "output_type": "execute_result"
        }
      ],
      "source": [
        "file_path = \"C:/Users/Lenovo/Documents/Courses (belajar)/DBS Coding Camp/Dicoding Modul/Belajar Analisis Data dengan Python/Proyek-Akhir_Analisis-Data-dengan-Python_Dicoding/Dataset/customers_dataset.csv\"\n",
        "\n",
        "df = pd.read_csv(file_path)\n",
        "df.head()"
      ]
    },
    {
      "cell_type": "code",
      "execution_count": 3,
      "metadata": {},
      "outputs": [
        {
          "name": "stdout",
          "output_type": "stream",
          "text": [
            "<class 'pandas.core.frame.DataFrame'>\n",
            "RangeIndex: 99441 entries, 0 to 99440\n",
            "Data columns (total 5 columns):\n",
            " #   Column                    Non-Null Count  Dtype \n",
            "---  ------                    --------------  ----- \n",
            " 0   customer_id               99441 non-null  object\n",
            " 1   customer_unique_id        99441 non-null  object\n",
            " 2   customer_zip_code_prefix  99441 non-null  int64 \n",
            " 3   customer_city             99441 non-null  object\n",
            " 4   customer_state            99441 non-null  object\n",
            "dtypes: int64(1), object(4)\n",
            "memory usage: 3.8+ MB\n"
          ]
        }
      ],
      "source": [
        "# Menampilkan jumlah baris dan kolom dalam dataset\n",
        "df.shape\n",
        "# Menampilkan informasi umum tentang dataset\n",
        "df.info()"
      ]
    },
    {
      "cell_type": "markdown",
      "metadata": {
        "id": "MMi6xGaDkbCi"
      },
      "source": [
        "**Insight:**\n",
        "- Jumlah data: 99.441 baris, 5 kolom\n",
        "- customer_id: ID pelanggan unik\n",
        "- customer_unique_id: ID pelanggan unik untuk pelanggan yang sama\n",
        "- customer_zip_code_prefix: Kode pos pelanggan\n",
        "- customer_city: Kota pelanggan\n",
        "- customer_state: Negara bagian pelanggan"
      ]
    },
    {
      "cell_type": "code",
      "execution_count": 4,
      "metadata": {},
      "outputs": [
        {
          "name": "stdout",
          "output_type": "stream",
          "text": [
            "                             customer_id                customer_unique_id  \\\n",
            "count                              99441                             99441   \n",
            "unique                             99441                             96096   \n",
            "top     06b8999e2fba1a1fbc88172c00ba8bc7  8d50f5eadf50201ccdcedfb9e2ac8455   \n",
            "freq                                   1                                17   \n",
            "mean                                 NaN                               NaN   \n",
            "std                                  NaN                               NaN   \n",
            "min                                  NaN                               NaN   \n",
            "25%                                  NaN                               NaN   \n",
            "50%                                  NaN                               NaN   \n",
            "75%                                  NaN                               NaN   \n",
            "max                                  NaN                               NaN   \n",
            "\n",
            "        customer_zip_code_prefix customer_city customer_state  \n",
            "count               99441.000000         99441          99441  \n",
            "unique                       NaN          4119             27  \n",
            "top                          NaN     sao paulo             SP  \n",
            "freq                         NaN         15540          41746  \n",
            "mean                35137.474583           NaN            NaN  \n",
            "std                 29797.938996           NaN            NaN  \n",
            "min                  1003.000000           NaN            NaN  \n",
            "25%                 11347.000000           NaN            NaN  \n",
            "50%                 24416.000000           NaN            NaN  \n",
            "75%                 58900.000000           NaN            NaN  \n",
            "max                 99990.000000           NaN            NaN  \n"
          ]
        }
      ],
      "source": [
        "# Menampilkan ringkasan statistik dasar untuk melihat distribusi data\n",
        "data_description = df.describe(include=\"all\")\n",
        "print(data_description)"
      ]
    },
    {
      "cell_type": "code",
      "execution_count": 5,
      "metadata": {},
      "outputs": [
        {
          "data": {
            "text/plain": [
              "customer_id                 0\n",
              "customer_unique_id          0\n",
              "customer_zip_code_prefix    0\n",
              "customer_city               0\n",
              "customer_state              0\n",
              "dtype: int64"
            ]
          },
          "execution_count": 5,
          "metadata": {},
          "output_type": "execute_result"
        }
      ],
      "source": [
        "# Menampilkan jumlah nilai yang hilang per kolom\n",
        "df.isnull().sum()"
      ]
    },
    {
      "cell_type": "markdown",
      "metadata": {},
      "source": [
        "Tidak ada data yang hilang di semua kolom."
      ]
    },
    {
      "cell_type": "markdown",
      "metadata": {
        "id": "FHSiqaZp8DC1"
      },
      "source": [
        "### Assessing Data"
      ]
    },
    {
      "cell_type": "markdown",
      "metadata": {},
      "source": [
        "#### Duplikasi data"
      ]
    },
    {
      "cell_type": "code",
      "execution_count": 6,
      "metadata": {
        "id": "ax-3tEjc9Cj1"
      },
      "outputs": [
        {
          "data": {
            "text/plain": [
              "0"
            ]
          },
          "execution_count": 6,
          "metadata": {},
          "output_type": "execute_result"
        }
      ],
      "source": [
        "# Mengecek duplikasi data\n",
        "duplicate_rows = df.duplicated().sum()\n",
        "duplicate_rows"
      ]
    },
    {
      "cell_type": "code",
      "execution_count": 7,
      "metadata": {},
      "outputs": [
        {
          "data": {
            "text/plain": [
              "customer_unique_id\n",
              "8d50f5eadf50201ccdcedfb9e2ac8455    17\n",
              "3e43e6105506432c953e165fb2acf44c     9\n",
              "1b6c7548a2a1f9037c1fd3ddfed95f33     7\n",
              "ca77025e7201e3b30c44b472ff346268     7\n",
              "6469f99c1f9dfae7733b25662e7f1782     7\n",
              "                                    ..\n",
              "081f07439678af2da7755a0aa572154d     1\n",
              "9c57789a6a587f4efcfb01e36c106014     1\n",
              "9e4c21635f640562de1a6976374fba03     1\n",
              "06c0ea6ee892364d1608ee47aa9f56a0     1\n",
              "84732c5050c01db9b23e19ba39899398     1\n",
              "Name: count, Length: 96096, dtype: int64"
            ]
          },
          "execution_count": 7,
          "metadata": {},
          "output_type": "execute_result"
        }
      ],
      "source": [
        "# Mengecek jumlah transaksi per pelanggan unik\n",
        "transaction_counts = df[\"customer_unique_id\"].value_counts()\n",
        "transaction_counts"
      ]
    },
    {
      "cell_type": "markdown",
      "metadata": {},
      "source": [
        "#### Inkonsistensi data"
      ]
    },
    {
      "cell_type": "code",
      "execution_count": 8,
      "metadata": {},
      "outputs": [
        {
          "data": {
            "text/plain": [
              "(4119, 27, 4119)"
            ]
          },
          "execution_count": 8,
          "metadata": {},
          "output_type": "execute_result"
        }
      ],
      "source": [
        "# Mengecek jumlah kota dan provinsi unik\n",
        "unique_cities = df[\"customer_city\"].nunique()\n",
        "unique_states = df[\"customer_state\"].nunique()\n",
        "\n",
        "# Mengecek ejaan kota yang mungkin tidak konsisten (contoh: huruf besar/kecil)\n",
        "city_variations = df[\"customer_city\"].str.lower().nunique()\n",
        "\n",
        "# Menampilkan hasil\n",
        "unique_cities, unique_states, city_variations"
      ]
    },
    {
      "cell_type": "markdown",
      "metadata": {
        "id": "7dtxhAPrkhPL"
      },
      "source": [
        "**Insight:**\n",
        "1. Kualitas Data (Duplikasi & Missing Values)\n",
        "    - Tidak ada nilai yang hilang (missing values) di dataset.\n",
        "    - Tidak ada duplikasi di seluruh kolom, sehingga setiap baris mewakili transaksi yang valid.\n",
        "    - Pelanggan unik yang berulang kali bertransaksi ditemukan, dengan jumlah transaksi per pelanggan berkisar antara 1    hingga 17 kali. Namun, 75% pelanggan hanya bertransaksi sekali.\n",
        "2. Konsistensi Data (Inkonsistensi & Format)\n",
        "    - Nama kota tidak mengalami inkonsistensi kapitalisasi huruf, sehingga tidak ada masalah ejaan yang terdeteksi secara langsung.\n",
        "    - Terdapat 4.119 kota unik dan 27 provinsi unik, yang sesuai dengan jumlah provinsi di Brasil."
      ]
    },
    {
      "cell_type": "markdown",
      "metadata": {
        "id": "EhN5R4hr8DC1"
      },
      "source": [
        "### Cleaning Data"
      ]
    },
    {
      "cell_type": "markdown",
      "metadata": {},
      "source": [
        "Sebenarnya untuk dataset ini sudah cenderung bersih, tetapi saya akan melakukan beberapa perbaikan kecil."
      ]
    },
    {
      "cell_type": "markdown",
      "metadata": {},
      "source": [
        "#### Menghapus kolom yang tidak diperlukan (jika ada)"
      ]
    },
    {
      "cell_type": "code",
      "execution_count": 9,
      "metadata": {
        "id": "jVnYpprE9Evz"
      },
      "outputs": [],
      "source": [
        "# Menghapus kolom yang tidak diperlukan (misalnya, customer_zip_code_prefix yang tidak akan digunakan)\n",
        "df_cleaned = df.drop(columns=[\"customer_zip_code_prefix\"])"
      ]
    },
    {
      "cell_type": "markdown",
      "metadata": {},
      "source": [
        "#### Normalisasi nama kota (seperti, menghilangkan spasi berlebih atau karakter aneh)"
      ]
    },
    {
      "cell_type": "code",
      "execution_count": 10,
      "metadata": {},
      "outputs": [],
      "source": [
        "# Normalisasi nama kota (menghapus spasi ekstra & mengonversi ke format title case)\n",
        "df_cleaned[\"customer_city\"] = df_cleaned[\"customer_city\"].str.strip().str.title()"
      ]
    },
    {
      "cell_type": "code",
      "execution_count": 11,
      "metadata": {},
      "outputs": [
        {
          "name": "stdout",
          "output_type": "stream",
          "text": [
            "<class 'pandas.core.frame.DataFrame'>\n",
            "RangeIndex: 99441 entries, 0 to 99440\n",
            "Data columns (total 4 columns):\n",
            " #   Column              Non-Null Count  Dtype \n",
            "---  ------              --------------  ----- \n",
            " 0   customer_id         99441 non-null  object\n",
            " 1   customer_unique_id  99441 non-null  object\n",
            " 2   customer_city       99441 non-null  object\n",
            " 3   customer_state      99441 non-null  object\n",
            "dtypes: object(4)\n",
            "memory usage: 3.0+ MB\n"
          ]
        }
      ],
      "source": [
        "# Mengecek kembali apakah ada perubahan setelah cleaning\n",
        "df_cleaned.info()"
      ]
    },
    {
      "cell_type": "code",
      "execution_count": 12,
      "metadata": {},
      "outputs": [
        {
          "data": {
            "text/html": [
              "<div>\n",
              "<style scoped>\n",
              "    .dataframe tbody tr th:only-of-type {\n",
              "        vertical-align: middle;\n",
              "    }\n",
              "\n",
              "    .dataframe tbody tr th {\n",
              "        vertical-align: top;\n",
              "    }\n",
              "\n",
              "    .dataframe thead th {\n",
              "        text-align: right;\n",
              "    }\n",
              "</style>\n",
              "<table border=\"1\" class=\"dataframe\">\n",
              "  <thead>\n",
              "    <tr style=\"text-align: right;\">\n",
              "      <th></th>\n",
              "      <th>customer_id</th>\n",
              "      <th>customer_unique_id</th>\n",
              "      <th>customer_city</th>\n",
              "      <th>customer_state</th>\n",
              "    </tr>\n",
              "  </thead>\n",
              "  <tbody>\n",
              "    <tr>\n",
              "      <th>0</th>\n",
              "      <td>06b8999e2fba1a1fbc88172c00ba8bc7</td>\n",
              "      <td>861eff4711a542e4b93843c6dd7febb0</td>\n",
              "      <td>Franca</td>\n",
              "      <td>SP</td>\n",
              "    </tr>\n",
              "    <tr>\n",
              "      <th>1</th>\n",
              "      <td>18955e83d337fd6b2def6b18a428ac77</td>\n",
              "      <td>290c77bc529b7ac935b93aa66c333dc3</td>\n",
              "      <td>Sao Bernardo Do Campo</td>\n",
              "      <td>SP</td>\n",
              "    </tr>\n",
              "    <tr>\n",
              "      <th>2</th>\n",
              "      <td>4e7b3e00288586ebd08712fdd0374a03</td>\n",
              "      <td>060e732b5b29e8181a18229c7b0b2b5e</td>\n",
              "      <td>Sao Paulo</td>\n",
              "      <td>SP</td>\n",
              "    </tr>\n",
              "    <tr>\n",
              "      <th>3</th>\n",
              "      <td>b2b6027bc5c5109e529d4dc6358b12c3</td>\n",
              "      <td>259dac757896d24d7702b9acbbff3f3c</td>\n",
              "      <td>Mogi Das Cruzes</td>\n",
              "      <td>SP</td>\n",
              "    </tr>\n",
              "    <tr>\n",
              "      <th>4</th>\n",
              "      <td>4f2d8ab171c80ec8364f7c12e35b23ad</td>\n",
              "      <td>345ecd01c38d18a9036ed96c73b8d066</td>\n",
              "      <td>Campinas</td>\n",
              "      <td>SP</td>\n",
              "    </tr>\n",
              "  </tbody>\n",
              "</table>\n",
              "</div>"
            ],
            "text/plain": [
              "                        customer_id                customer_unique_id  \\\n",
              "0  06b8999e2fba1a1fbc88172c00ba8bc7  861eff4711a542e4b93843c6dd7febb0   \n",
              "1  18955e83d337fd6b2def6b18a428ac77  290c77bc529b7ac935b93aa66c333dc3   \n",
              "2  4e7b3e00288586ebd08712fdd0374a03  060e732b5b29e8181a18229c7b0b2b5e   \n",
              "3  b2b6027bc5c5109e529d4dc6358b12c3  259dac757896d24d7702b9acbbff3f3c   \n",
              "4  4f2d8ab171c80ec8364f7c12e35b23ad  345ecd01c38d18a9036ed96c73b8d066   \n",
              "\n",
              "           customer_city customer_state  \n",
              "0                 Franca             SP  \n",
              "1  Sao Bernardo Do Campo             SP  \n",
              "2              Sao Paulo             SP  \n",
              "3        Mogi Das Cruzes             SP  \n",
              "4               Campinas             SP  "
            ]
          },
          "execution_count": 12,
          "metadata": {},
          "output_type": "execute_result"
        }
      ],
      "source": [
        "df_cleaned.head()"
      ]
    },
    {
      "cell_type": "markdown",
      "metadata": {
        "id": "Q_5ejIqckiSP"
      },
      "source": [
        "**Insight:**\n",
        "- Kolom customer_zip_code_prefix dihapus karena tidak diperlukan.\n",
        "- Nama kota dinormalisasi (menghilangkan spasi berlebih dan dikonversi ke format Title Case).\n",
        "- Tidak ada perubahan jumlah data, menandakan tidak ada nilai yang hilang dalam proses ini."
      ]
    },
    {
      "cell_type": "markdown",
      "metadata": {
        "id": "gp-Y6wU38DC1"
      },
      "source": [
        "## Exploratory Data Analysis (EDA)"
      ]
    },
    {
      "cell_type": "markdown",
      "metadata": {
        "id": "MW7WF2kr8DC1"
      },
      "source": [
        "### Explore ..."
      ]
    },
    {
      "cell_type": "code",
      "execution_count": 13,
      "metadata": {
        "id": "e9CQCZjk8DC2"
      },
      "outputs": [
        {
          "data": {
            "image/png": "[encoded data removed]",
            "text/plain": [
              "<Figure size 1200x600 with 1 Axes>"
            ]
          },
          "metadata": {},
          "output_type": "display_data"
        },
        {
          "data": {
            "text/plain": [
              "(2997,\n",
              " 96096,\n",
              " 3.1187562437562435,\n",
              " customer_city\n",
              " Sao Paulo                15540\n",
              " Rio De Janeiro            6882\n",
              " Belo Horizonte            2773\n",
              " Brasilia                  2131\n",
              " Curitiba                  1521\n",
              " Campinas                  1444\n",
              " Porto Alegre              1379\n",
              " Salvador                  1245\n",
              " Guarulhos                 1189\n",
              " Sao Bernardo Do Campo      938\n",
              " Name: count, dtype: int64)"
            ]
          },
          "execution_count": 13,
          "metadata": {},
          "output_type": "execute_result"
        }
      ],
      "source": [
        "# 1. Mengecek jumlah pelanggan yang kembali bertransaksi\n",
        "repeat_customers = df_cleaned[\"customer_unique_id\"].value_counts()\n",
        "repeat_count = (repeat_customers > 1).sum()\n",
        "unique_customers = repeat_customers.count()\n",
        "repeat_percentage = (repeat_count / unique_customers) * 100\n",
        "\n",
        "# 2. Distribusi pelanggan berdasarkan kota (Top 10 kota dengan pelanggan terbanyak)\n",
        "top_cities = df_cleaned[\"customer_city\"].value_counts().head(10)\n",
        "\n",
        "# Visualisasi: Distribusi pelanggan berdasarkan kota\n",
        "plt.figure(figsize=(12, 6))\n",
        "sns.barplot(x=top_cities.values, y=top_cities.index, palette=\"Blues_r\")\n",
        "plt.xlabel(\"Jumlah Pelanggan\")\n",
        "plt.ylabel(\"Kota\")\n",
        "plt.title(\"Distribusi Pelanggan Berdasarkan Kota (Top 10)\")\n",
        "plt.show()\n",
        "\n",
        "# Menampilkan hasil analisis\n",
        "repeat_count, unique_customers, repeat_percentage, top_cities"
      ]
    },
    {
      "cell_type": "markdown",
      "metadata": {
        "id": "th_Lzl2Fkj9O"
      },
      "source": [
        "**Insight:**\n",
        "\n",
        "1️. Pelanggan yang Kembali Bertransaksi\n",
        "- Total pelanggan unik: 96.096 pelanggan\n",
        "- Pelanggan yang kembali membeli: 2.997 pelanggan (3.12%)\n",
        "- Mayoritas pelanggan hanya bertransaksi sekali, dengan hanya sekitar 3.12% pelanggan yang melakukan pembelian ulang.\n",
        "- Ini menunjukkan bahwa retensi pelanggan cukup rendah, dan bisa menjadi area yang perlu ditingkatkan.\n",
        "\n",
        "2️. Distribusi Pelanggan Berdasarkan Kota\n",
        "- Kota dengan jumlah pelanggan terbanyak: São Paulo (15.540 pelanggan)\n",
        "- Dikuti oleh:\n",
        "    1. Rio de Janeiro (6.882 pelanggan)\n",
        "    2. Belo Horizonte (2.773 pelanggan)\n",
        "    3. Brasília (2.131 pelanggan)\n",
        "    4. Curitiba (1.521 pelanggan)"
      ]
    },
    {
      "cell_type": "markdown",
      "metadata": {
        "id": "zsyZjqak8DC2"
      },
      "source": [
        "## Visualization & Explanatory Analysis"
      ]
    },
    {
      "cell_type": "markdown",
      "metadata": {
        "id": "HZxOiQ6n8DC2"
      },
      "source": [
        "### Pertanyaan 1: Berapa banyak pelanggan unik yang kembali melakukan pembelian?"
      ]
    },
    {
      "cell_type": "code",
      "execution_count": 14,
      "metadata": {
        "id": "1swJUdAD8DC2"
      },
      "outputs": [
        {
          "data": {
            "image/png": "[encoded data removed]",
            "text/plain": [
              "<Figure size 600x600 with 1 Axes>"
            ]
          },
          "metadata": {},
          "output_type": "display_data"
        }
      ],
      "source": [
        "# Setup gaya visualisasi\n",
        "sns.set_style(\"whitegrid\")\n",
        "\n",
        "# 1. Visualisasi Retensi Pelanggan (Pelanggan Baru vs Repeat Customers)\n",
        "plt.figure(figsize=(6, 6))\n",
        "labels = [\"Pelanggan Baru\", \"Pelanggan Berulang\"]\n",
        "sizes = [unique_customers - repeat_count, repeat_count]\n",
        "colors = [\"#66b3ff\", \"#ff9999\"]\n",
        "plt.pie(sizes, labels=labels, autopct=\"%1.1f%%\", colors=colors, startangle=140, wedgeprops={\"edgecolor\": \"black\"})\n",
        "plt.title(\"Proporsi Pelanggan Baru vs Pelanggan Berulang\")\n",
        "plt.show()"
      ]
    },
    {
      "cell_type": "markdown",
      "metadata": {},
      "source": [
        "**Proporsi Pelanggan Baru vs Pelanggan Berulang**\n",
        "\n",
        "- Grafik pie ini menunjukkan bahwa mayoritas pelanggan (96.88%) hanya melakukan pembelian sekali, sementara hanya 3.12% yang kembali melakukan pembelian.\n",
        "- Hal ini menunjukkan bahwa retensi pelanggan cukup rendah, sehingga bisa menjadi area yang perlu ditingkatkan melalui strategi pemasaran ulang atau program loyalitas."
      ]
    },
    {
      "cell_type": "markdown",
      "metadata": {
        "id": "DgHI7CiU8DC2"
      },
      "source": [
        "### Pertanyaan 2: Bagaimana distribusi pelanggan berdasarkan kota?"
      ]
    },
    {
      "cell_type": "code",
      "execution_count": 15,
      "metadata": {
        "id": "Go0lCsvO8DC2"
      },
      "outputs": [
        {
          "data": {
            "image/png": "[encoded data removed]",
            "text/plain": [
              "<Figure size 1200x600 with 1 Axes>"
            ]
          },
          "metadata": {},
          "output_type": "display_data"
        }
      ],
      "source": [
        "# Visualisasi Distribusi Pelanggan Berdasarkan Kota\n",
        "plt.figure(figsize=(12, 6))\n",
        "sns.barplot(x=top_cities.values, y=top_cities.index, palette=\"coolwarm\")\n",
        "plt.xlabel(\"Jumlah Pelanggan\")\n",
        "plt.ylabel(\"Kota\")\n",
        "plt.title(\"Distribusi Pelanggan Berdasarkan Kota (Top 10)\")\n",
        "plt.show()"
      ]
    },
    {
      "cell_type": "markdown",
      "metadata": {},
      "source": [
        "**Distribusi Pelanggan Berdasarkan Kota**\n",
        "- Grafik batang ini menunjukkan 10 kota dengan jumlah pelanggan terbanyak.\n",
        "- São Paulo mendominasi dengan 15.540 pelanggan, jauh lebih tinggi dibanding kota lain.\n",
        "- Kota besar lainnya seperti Rio de Janeiro, Belo Horizonte, dan Brasília juga memiliki jumlah pelanggan yang cukup tinggi, menjadikannya target potensial untuk ekspansi bisnis atau pemasaran yang lebih agresif."
      ]
    },
    {
      "cell_type": "markdown",
      "metadata": {
        "id": "_0-36BDLklRg"
      },
      "source": [
        "**Insight:**\n",
        "- Peluang besar untuk meningkatkan retensi pelanggan melalui strategi pemasaran.\n",
        "- São Paulo adalah pasar utama, yang bisa menjadi prioritas dalam strategi bisnis."
      ]
    },
    {
      "cell_type": "markdown",
      "metadata": {
        "id": "_WeHlCeX8DC2"
      },
      "source": [
        "## Conclusion"
      ]
    },
    {
      "cell_type": "markdown",
      "metadata": {
        "id": "ZTcyR48Y8DC2"
      },
      "source": [
        "- Conclution pertanyaan 1 : Berapa banyak pelanggan unik yang kembali melakukan pembelian?\n",
        "1. Dari 96.096 pelanggan unik, hanya 2.997 pelanggan (3.12%) yang melakukan pembelian lebih dari satu kali.\n",
        "2. Mayoritas pelanggan (96.88%) hanya bertransaksi sekali, menunjukkan bahwa retensi pelanggan cukup rendah.\n",
        "3. Untuk meningkatkan angka ini, strategi seperti program loyalitas, diskon untuk pembelian berikutnya, atau email marketing bisa diterapkan agar pelanggan kembali berbelanja.\n",
        "\n",
        "- Conclution pertanyaan 2 : Bagaimana distribusi pelanggan berdasarkan kota?\n",
        "1. São Paulo memiliki jumlah pelanggan terbanyak (15.540 pelanggan), menjadikannya pasar utama dalam bisnis ini.\n",
        "2. Rio de Janeiro (6.882 pelanggan), Belo Horizonte (2.773 pelanggan), dan Brasília (2.131 pelanggan) juga memiliki jumlah pelanggan yang signifikan.\n",
        "3. Ini menunjukkan bahwa kota-kota besar seperti São Paulo dan Rio de Janeiro dapat menjadi prioritas utama dalam strategi pemasaran dan distribusi produk.\n"
      ]
    }
  ],
  "metadata": {
    "colab": {
      "provenance": []
    },
    "kernelspec": {
      "display_name": "base",
      "language": "python",
      "name": "python3"
    },
    "language_info": {
      "codemirror_mode": {
        "name": "ipython",
        "version": 3
      },
      "file_extension": ".py",
      "mimetype": "text/x-python",
      "name": "python",
      "nbconvert_exporter": "python",
      "pygments_lexer": "ipython3",
      "version": "3.11.5"
    },
    "orig_nbformat": 4
  },
  "nbformat": 4,
  "nbformat_minor": 0
}
